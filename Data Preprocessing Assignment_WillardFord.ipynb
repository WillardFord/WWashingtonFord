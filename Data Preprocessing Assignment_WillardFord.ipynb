{
 "cells": [
  {
   "cell_type": "code",
   "execution_count": 1,
   "id": "d8d43daa",
   "metadata": {},
   "outputs": [],
   "source": [
    "import matplotlib.pyplot as plt\n",
    "import pandas as pd\n",
    "import numpy as np\n",
    "\n",
    "#Author: Willard Ford\n",
    "#Version: Sep 11, 2022"
   ]
  },
  {
   "cell_type": "code",
   "execution_count": 2,
   "id": "1964344f",
   "metadata": {},
   "outputs": [],
   "source": [
    "# Part 1\n",
    "\"\"\"\n",
    "Method returns a dataframe given a gct file.\n",
    "\n",
    "If summary is True, prints out the number of columns and rows. summary defaults to False.\n",
    "\"\"\"\n",
    "def df_gct(file, summary = False):\n",
    "    # Tab separated file\n",
    "    dataFrame = pd.read_csv(file, sep = \"\\t\", skiprows = 2)\n",
    "    # Optional parameter that prints the shape of our data.\n",
    "    if summary:\n",
    "        shape = dataFrame.shape\n",
    "        print(f\"Number of Rows: {shape[0]} \\nNumber of Columns: {shape[1]}\")\n",
    "    return dataFrame\n"
   ]
  },
  {
   "cell_type": "code",
   "execution_count": 3,
   "id": "a58b363c",
   "metadata": {},
   "outputs": [
    {
     "name": "stdout",
     "output_type": "stream",
     "text": [
      "Number of Rows: 60 \n",
      "Number of Columns: 21\n"
     ]
    }
   ],
   "source": [
    "# Part 2\n",
    "# A:\n",
    "# This object doesn't change. The first call prints the number of Rows and Columns.\n",
    "BRCA_minimal = df_gct(\"https://datasets.genepattern.org/data/test_data/BRCA_minimal_60x19.gct\", True)\n",
    "# B:\n",
    "BRCA_minimal = df_gct(\"https://datasets.genepattern.org/data/test_data/BRCA_minimal_60x19.gct\")"
   ]
  },
  {
   "cell_type": "code",
   "execution_count": 4,
   "id": "5b41ac3b",
   "metadata": {},
   "outputs": [
    {
     "data": {
      "image/png": "[encoded data removed]",
      "text/plain": [
       "<Figure size 432x288 with 1 Axes>"
      ]
     },
     "metadata": {
      "needs_background": "light"
     },
     "output_type": "display_data"
    },
    {
     "data": {
      "image/png": "[encoded data removed]",
      "text/plain": [
       "<Figure size 432x288 with 1 Axes>"
      ]
     },
     "metadata": {
      "needs_background": "light"
     },
     "output_type": "display_data"
    },
    {
     "ename": "KeyError",
     "evalue": "'BH-A0B3-primary'",
     "output_type": "error",
     "traceback": [
      "\u001b[0;31m---------------------------------------------------------------------------\u001b[0m",
      "\u001b[0;31mKeyError\u001b[0m                                  Traceback (most recent call last)",
      "\u001b[0;32m/opt/conda/lib/python3.9/site-packages/pandas/core/indexes/base.py\u001b[0m in \u001b[0;36mget_loc\u001b[0;34m(self, key, method, tolerance)\u001b[0m\n\u001b[1;32m   3079\u001b[0m             \u001b[0;32mtry\u001b[0m\u001b[0;34m:\u001b[0m\u001b[0;34m\u001b[0m\u001b[0;34m\u001b[0m\u001b[0m\n\u001b[0;32m-> 3080\u001b[0;31m                 \u001b[0;32mreturn\u001b[0m \u001b[0mself\u001b[0m\u001b[0;34m.\u001b[0m\u001b[0m_engine\u001b[0m\u001b[0;34m.\u001b[0m\u001b[0mget_loc\u001b[0m\u001b[0;34m(\u001b[0m\u001b[0mcasted_key\u001b[0m\u001b[0;34m)\u001b[0m\u001b[0;34m\u001b[0m\u001b[0;34m\u001b[0m\u001b[0m\n\u001b[0m\u001b[1;32m   3081\u001b[0m             \u001b[0;32mexcept\u001b[0m \u001b[0mKeyError\u001b[0m \u001b[0;32mas\u001b[0m \u001b[0merr\u001b[0m\u001b[0;34m:\u001b[0m\u001b[0;34m\u001b[0m\u001b[0;34m\u001b[0m\u001b[0m\n",
      "\u001b[0;32mpandas/_libs/index.pyx\u001b[0m in \u001b[0;36mpandas._libs.index.IndexEngine.get_loc\u001b[0;34m()\u001b[0m\n",
      "\u001b[0;32mpandas/_libs/index.pyx\u001b[0m in \u001b[0;36mpandas._libs.index.IndexEngine.get_loc\u001b[0;34m()\u001b[0m\n",
      "\u001b[0;32mpandas/_libs/hashtable_class_helper.pxi\u001b[0m in \u001b[0;36mpandas._libs.hashtable.PyObjectHashTable.get_item\u001b[0;34m()\u001b[0m\n",
      "\u001b[0;32mpandas/_libs/hashtable_class_helper.pxi\u001b[0m in \u001b[0;36mpandas._libs.hashtable.PyObjectHashTable.get_item\u001b[0;34m()\u001b[0m\n",
      "\u001b[0;31mKeyError\u001b[0m: 'BH-A0B3-primary'",
      "\nThe above exception was the direct cause of the following exception:\n",
      "\u001b[0;31mKeyError\u001b[0m                                  Traceback (most recent call last)",
      "\u001b[0;32m<ipython-input-4-ad2e1036765b>\u001b[0m in \u001b[0;36m<module>\u001b[0;34m\u001b[0m\n\u001b[1;32m     10\u001b[0m     \u001b[0;31m# Add title by plot\u001b[0m\u001b[0;34m\u001b[0m\u001b[0;34m\u001b[0m\u001b[0;34m\u001b[0m\u001b[0m\n\u001b[1;32m     11\u001b[0m     \u001b[0mplt\u001b[0m\u001b[0;34m.\u001b[0m\u001b[0mtitle\u001b[0m\u001b[0;34m(\u001b[0m\u001b[0mcolumn\u001b[0m\u001b[0;34m)\u001b[0m\u001b[0;34m\u001b[0m\u001b[0;34m\u001b[0m\u001b[0m\n\u001b[0;32m---> 12\u001b[0;31m     \u001b[0mplt\u001b[0m\u001b[0;34m.\u001b[0m\u001b[0mhist\u001b[0m\u001b[0;34m(\u001b[0m\u001b[0mBRCA_minimal\u001b[0m\u001b[0;34m[\u001b[0m\u001b[0mcolumn\u001b[0m\u001b[0;34m]\u001b[0m\u001b[0;34m)\u001b[0m\u001b[0;34m\u001b[0m\u001b[0;34m\u001b[0m\u001b[0m\n\u001b[0m\u001b[1;32m     13\u001b[0m     \u001b[0mplt\u001b[0m\u001b[0;34m.\u001b[0m\u001b[0mshow\u001b[0m\u001b[0;34m(\u001b[0m\u001b[0;34m)\u001b[0m\u001b[0;34m\u001b[0m\u001b[0;34m\u001b[0m\u001b[0m\n",
      "\u001b[0;32m/opt/conda/lib/python3.9/site-packages/pandas/core/frame.py\u001b[0m in \u001b[0;36m__getitem__\u001b[0;34m(self, key)\u001b[0m\n\u001b[1;32m   3022\u001b[0m             \u001b[0;32mif\u001b[0m \u001b[0mself\u001b[0m\u001b[0;34m.\u001b[0m\u001b[0mcolumns\u001b[0m\u001b[0;34m.\u001b[0m\u001b[0mnlevels\u001b[0m \u001b[0;34m>\u001b[0m \u001b[0;36m1\u001b[0m\u001b[0;34m:\u001b[0m\u001b[0;34m\u001b[0m\u001b[0;34m\u001b[0m\u001b[0m\n\u001b[1;32m   3023\u001b[0m                 \u001b[0;32mreturn\u001b[0m \u001b[0mself\u001b[0m\u001b[0;34m.\u001b[0m\u001b[0m_getitem_multilevel\u001b[0m\u001b[0;34m(\u001b[0m\u001b[0mkey\u001b[0m\u001b[0;34m)\u001b[0m\u001b[0;34m\u001b[0m\u001b[0;34m\u001b[0m\u001b[0m\n\u001b[0;32m-> 3024\u001b[0;31m             \u001b[0mindexer\u001b[0m \u001b[0;34m=\u001b[0m \u001b[0mself\u001b[0m\u001b[0;34m.\u001b[0m\u001b[0mcolumns\u001b[0m\u001b[0;34m.\u001b[0m\u001b[0mget_loc\u001b[0m\u001b[0;34m(\u001b[0m\u001b[0mkey\u001b[0m\u001b[0;34m)\u001b[0m\u001b[0;34m\u001b[0m\u001b[0;34m\u001b[0m\u001b[0m\n\u001b[0m\u001b[1;32m   3025\u001b[0m             \u001b[0;32mif\u001b[0m \u001b[0mis_integer\u001b[0m\u001b[0;34m(\u001b[0m\u001b[0mindexer\u001b[0m\u001b[0;34m)\u001b[0m\u001b[0;34m:\u001b[0m\u001b[0;34m\u001b[0m\u001b[0;34m\u001b[0m\u001b[0m\n\u001b[1;32m   3026\u001b[0m                 \u001b[0mindexer\u001b[0m \u001b[0;34m=\u001b[0m \u001b[0;34m[\u001b[0m\u001b[0mindexer\u001b[0m\u001b[0;34m]\u001b[0m\u001b[0;34m\u001b[0m\u001b[0;34m\u001b[0m\u001b[0m\n",
      "\u001b[0;32m/opt/conda/lib/python3.9/site-packages/pandas/core/indexes/base.py\u001b[0m in \u001b[0;36mget_loc\u001b[0;34m(self, key, method, tolerance)\u001b[0m\n\u001b[1;32m   3080\u001b[0m                 \u001b[0;32mreturn\u001b[0m \u001b[0mself\u001b[0m\u001b[0;34m.\u001b[0m\u001b[0m_engine\u001b[0m\u001b[0;34m.\u001b[0m\u001b[0mget_loc\u001b[0m\u001b[0;34m(\u001b[0m\u001b[0mcasted_key\u001b[0m\u001b[0;34m)\u001b[0m\u001b[0;34m\u001b[0m\u001b[0;34m\u001b[0m\u001b[0m\n\u001b[1;32m   3081\u001b[0m             \u001b[0;32mexcept\u001b[0m \u001b[0mKeyError\u001b[0m \u001b[0;32mas\u001b[0m \u001b[0merr\u001b[0m\u001b[0;34m:\u001b[0m\u001b[0;34m\u001b[0m\u001b[0;34m\u001b[0m\u001b[0m\n\u001b[0;32m-> 3082\u001b[0;31m                 \u001b[0;32mraise\u001b[0m \u001b[0mKeyError\u001b[0m\u001b[0;34m(\u001b[0m\u001b[0mkey\u001b[0m\u001b[0;34m)\u001b[0m \u001b[0;32mfrom\u001b[0m \u001b[0merr\u001b[0m\u001b[0;34m\u001b[0m\u001b[0;34m\u001b[0m\u001b[0m\n\u001b[0m\u001b[1;32m   3083\u001b[0m \u001b[0;34m\u001b[0m\u001b[0m\n\u001b[1;32m   3084\u001b[0m         \u001b[0;32mif\u001b[0m \u001b[0mtolerance\u001b[0m \u001b[0;32mis\u001b[0m \u001b[0;32mnot\u001b[0m \u001b[0;32mNone\u001b[0m\u001b[0;34m:\u001b[0m\u001b[0;34m\u001b[0m\u001b[0;34m\u001b[0m\u001b[0m\n",
      "\u001b[0;31mKeyError\u001b[0m: 'BH-A0B3-primary'"
     ]
    },
    {
     "data": {
      "image/png": "[encoded data removed]",
      "text/plain": [
       "<Figure size 432x288 with 1 Axes>"
      ]
     },
     "metadata": {
      "needs_background": "light"
     },
     "output_type": "display_data"
    }
   ],
   "source": [
    "# Part 3\n",
    "\n",
    "# This line shows that there are no columns named: \"BH-A0B3-primary\" or \"BH-A0B5-primary\"\n",
    "#print(BRCA_minimal.columns)\n",
    "\n",
    "# If the columns did exist this would print them all by creating a list of pertinent columns than iterating over them.\n",
    "columns = [\"A7-A0DB-Normal\",\"A7-A13E-Normal\",\"BH-A0B3-primary\",\"BH-A0B5-primary\"]\n",
    "\n",
    "for column in columns:\n",
    "    # Add title by plot\n",
    "    plt.title(column)\n",
    "    plt.hist(BRCA_minimal[column])\n",
    "    plt.show()"
   ]
  },
  {
   "cell_type": "code",
   "execution_count": 5,
   "id": "26269caf",
   "metadata": {},
   "outputs": [
    {
     "name": "stdout",
     "output_type": "stream",
     "text": [
      "       Sample name          Mean       Median  Standard Deviation\n",
      "0   A7-A0CE-Normal  28266.254337  13988.73015        36685.976057\n",
      "1   A7-A0CH-Normal  37951.066482  26623.60135        31607.953950\n",
      "2   A7-A0D9-Normal  52091.028092  40357.17920        51461.917259\n",
      "3   A7-A0DB-Normal  51278.083847  41211.34020        47992.835378\n",
      "4   A7-A13E-Normal  43001.924110  39598.80120        39591.881631\n",
      "5   A7-A13F-Normal  37183.546548  30000.44905        30910.293194\n",
      "6   A7-A13G-Normal  59433.558282  37586.62055        79757.461363\n",
      "7   AC-A23H-Normal  35281.889132  19706.05600        41797.826463\n",
      "8   AC-A2FB-Normal  35974.838768  21019.07380        36032.001438\n",
      "9   AC-A2FF-Normal  28014.183067  14858.58480        33231.900729\n",
      "10   3C-AAAU-Tumor  19410.475793   8181.79375        26878.830853\n",
      "11   3C-AALI-Tumor  28798.771522   7618.27080        42747.107199\n",
      "12   3C-AALJ-Tumor  24617.674375   7940.16320        35941.823408\n",
      "13   3C-AALK-Tumor  40568.659982  17470.41790        71766.481729\n",
      "14   4H-AAAK-Tumor  44240.009855  13041.70210        79786.998069\n",
      "15   5L-AAT0-Tumor  32111.802017  11030.06305        47724.556511\n",
      "16   5L-AAT1-Tumor  34082.427873   8268.13365        53168.546482\n",
      "17   5T-A9QA-Tumor  15259.936545   2927.56275        24117.970853\n",
      "18   A1-A0SD-Tumor  30617.269985  13746.91920        57216.899523\n"
     ]
    }
   ],
   "source": [
    "# Part 4\n",
    "\n",
    "data = []\n",
    "# Populate data with statistics\n",
    "\n",
    "# Cut first two non-numeric columns\n",
    "columns = BRCA_minimal.columns[2:]\n",
    "for column in columns:\n",
    "    data.append((column, \n",
    "             BRCA_minimal[column].mean(), \n",
    "             BRCA_minimal[column].median(),\n",
    "             BRCA_minimal[column].std()))\n",
    "# Create and print out dataframe\n",
    "df = pd.DataFrame(data, columns = ['Sample name','Mean','Median','Standard Deviation'])\n",
    "print(df)"
   ]
  },
  {
   "cell_type": "code",
   "execution_count": 11,
   "id": "05c1432d",
   "metadata": {},
   "outputs": [
    {
     "data": {
      "image/png": "[encoded data removed]",
      "text/plain": [
       "<Figure size 432x288 with 1 Axes>"
      ]
     },
     "metadata": {
      "needs_background": "light"
     },
     "output_type": "display_data"
    },
    {
     "data": {
      "image/png": "[encoded data removed]",
      "text/plain": [
       "<Figure size 432x288 with 1 Axes>"
      ]
     },
     "metadata": {
      "needs_background": "light"
     },
     "output_type": "display_data"
    },
    {
     "name": "stdout",
     "output_type": "stream",
     "text": [
      "       Sample name          Mean       Median\n",
      "0   A7-A0CE-Normal  41398.244812  32193.49205\n",
      "1   A7-A0CH-Normal  46750.038891  38440.99670\n",
      "2   A7-A0D9-Normal  59142.744700  40357.17920\n",
      "3   A7-A0DB-Normal  62854.093538  48822.42270\n",
      "4   A7-A13E-Normal  51955.288856  42696.71145\n",
      "5   A7-A13F-Normal  44892.169629  35916.03055\n",
      "6   A7-A13G-Normal  59350.131082  42112.44405\n",
      "7   AC-A23H-Normal  49522.476697  46433.13355\n",
      "8   AC-A2FB-Normal  46365.967279  38334.48845\n",
      "9   AC-A2FF-Normal  40882.737921  32733.54255\n",
      "10   3C-AAAU-Tumor  24014.274650  19340.70215\n",
      "11   3C-AALI-Tumor  36867.655050  23187.05820\n",
      "12   3C-AALJ-Tumor  38117.152150  24309.35630\n",
      "13   3C-AALK-Tumor  65652.102147  28879.18905\n",
      "14   4H-AAAK-Tumor  71599.092741  33891.27660\n",
      "15   5L-AAT0-Tumor  51527.058641  39106.61385\n",
      "16   5L-AAT1-Tumor  54505.819071  27003.97720\n",
      "17   5T-A9QA-Tumor  21442.543229  12760.98330\n",
      "18   A1-A0SD-Tumor  36136.462126  23104.95410\n"
     ]
    }
   ],
   "source": [
    "# Part 5\n",
    "# A\n",
    "# Iterate through every column is equivilant to filtering through every row, dropping values less than 500.\n",
    "data_filtered = BRCA_minimal\n",
    "for column in columns:\n",
    "    data_filtered = data_filtered[data_filtered[column]>=500]\n",
    "# B\n",
    "# Record new means and medians in data\n",
    "data = []\n",
    "# Columns to print, again BH starting columns don't exist in our dataset.\n",
    "q3columns = [\"A7-A0DB-Normal\",\"A7-A13E-Normal\",\"BH-A0B3-primary\",\"BH-A0B5-primary\"]\n",
    "for column in columns:\n",
    "    # Histogram method copied from q3. Placed here so we only have to iterate once.\n",
    "    if column in q3columns:\n",
    "        # Histograms from q3 with new filtered data.\n",
    "        plt.title(column)\n",
    "        plt.hist(data_filtered[column])\n",
    "        plt.show()\n",
    "    data.append((column, \n",
    "             data_filtered[column].mean(), \n",
    "             data_filtered[column].median()))\n",
    "# Turn data into DataFrame with column names and print\n",
    "dataframe = pd.DataFrame(data, columns = ['Sample name','Mean','Median'])\n",
    "print(dataframe)\n"
   ]
  },
  {
   "cell_type": "code",
   "execution_count": null,
   "id": "ccf9e676",
   "metadata": {},
   "outputs": [],
   "source": []
  }
 ],
 "metadata": {
  "kernelspec": {
   "display_name": "Python 3",
   "language": "python",
   "name": "python3"
  },
  "language_info": {
   "codemirror_mode": {
    "name": "ipython",
    "version": 3
   },
   "file_extension": ".py",
   "mimetype": "text/x-python",
   "name": "python",
   "nbconvert_exporter": "python",
   "pygments_lexer": "ipython3",
   "version": "3.9.2"
  },
  "toc": {
   "base_numbering": 1,
   "nav_menu": {},
   "number_sections": false,
   "sideBar": true,
   "skip_h1_title": false,
   "title_cell": "Table of Contents",
   "title_sidebar": "Contents",
   "toc_cell": false,
   "toc_position": {},
   "toc_section_display": true,
   "toc_window_display": false
  }
 },
 "nbformat": 4,
 "nbformat_minor": 5
}
